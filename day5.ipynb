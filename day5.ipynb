{
  "nbformat": 4,
  "nbformat_minor": 0,
  "metadata": {
    "colab": {
      "name": "day5.ipynb",
      "provenance": [],
      "collapsed_sections": [],
      "mount_file_id": "1bU-VBth9FdGAhr1CKDcAyiUuYgxZlsVr",
      "authorship_tag": "ABX9TyNZkjoByUkI5Ire0DWLHGcl",
      "include_colab_link": true
    },
    "kernelspec": {
      "name": "python3",
      "display_name": "Python 3"
    },
    "widgets": {
      "application/vnd.jupyter.widget-state+json": {
        "7aab5d6684614440a5795049e51b80e8": {
          "model_module": "@jupyter-widgets/controls",
          "model_name": "HBoxModel",
          "state": {
            "_view_name": "HBoxView",
            "_dom_classes": [],
            "_model_name": "HBoxModel",
            "_view_module": "@jupyter-widgets/controls",
            "_model_module_version": "1.5.0",
            "_view_count": null,
            "_view_module_version": "1.5.0",
            "box_style": "",
            "layout": "IPY_MODEL_513a202223274dfa8cf7255f350385f2",
            "_model_module": "@jupyter-widgets/controls",
            "children": [
              "IPY_MODEL_0e908b2a3981407aa3accfddb3ee255e",
              "IPY_MODEL_be4643590f75472f883d43062a3772b7"
            ]
          }
        },
        "513a202223274dfa8cf7255f350385f2": {
          "model_module": "@jupyter-widgets/base",
          "model_name": "LayoutModel",
          "state": {
            "_view_name": "LayoutView",
            "grid_template_rows": null,
            "right": null,
            "justify_content": null,
            "_view_module": "@jupyter-widgets/base",
            "overflow": null,
            "_model_module_version": "1.2.0",
            "_view_count": null,
            "flex_flow": null,
            "width": null,
            "min_width": null,
            "border": null,
            "align_items": null,
            "bottom": null,
            "_model_module": "@jupyter-widgets/base",
            "top": null,
            "grid_column": null,
            "overflow_y": null,
            "overflow_x": null,
            "grid_auto_flow": null,
            "grid_area": null,
            "grid_template_columns": null,
            "flex": null,
            "_model_name": "LayoutModel",
            "justify_items": null,
            "grid_row": null,
            "max_height": null,
            "align_content": null,
            "visibility": null,
            "align_self": null,
            "height": null,
            "min_height": null,
            "padding": null,
            "grid_auto_rows": null,
            "grid_gap": null,
            "max_width": null,
            "order": null,
            "_view_module_version": "1.2.0",
            "grid_template_areas": null,
            "object_position": null,
            "object_fit": null,
            "grid_auto_columns": null,
            "margin": null,
            "display": null,
            "left": null
          }
        },
        "0e908b2a3981407aa3accfddb3ee255e": {
          "model_module": "@jupyter-widgets/controls",
          "model_name": "IntProgressModel",
          "state": {
            "_view_name": "ProgressView",
            "style": "IPY_MODEL_5886f055575e44ddb9386da9eec1c160",
            "_dom_classes": [],
            "description": "",
            "_model_name": "IntProgressModel",
            "bar_style": "success",
            "max": 476,
            "_view_module": "@jupyter-widgets/controls",
            "_model_module_version": "1.5.0",
            "value": 476,
            "_view_count": null,
            "_view_module_version": "1.5.0",
            "orientation": "horizontal",
            "min": 0,
            "description_tooltip": null,
            "_model_module": "@jupyter-widgets/controls",
            "layout": "IPY_MODEL_e24eecd145f9408d908ecf006d52f136"
          }
        },
        "be4643590f75472f883d43062a3772b7": {
          "model_module": "@jupyter-widgets/controls",
          "model_name": "HTMLModel",
          "state": {
            "_view_name": "HTMLView",
            "style": "IPY_MODEL_14ffb48d5f424119baab5ba73973b257",
            "_dom_classes": [],
            "description": "",
            "_model_name": "HTMLModel",
            "placeholder": "​",
            "_view_module": "@jupyter-widgets/controls",
            "_model_module_version": "1.5.0",
            "value": "100% 476/476 [00:03&lt;00:00, 130.95it/s]",
            "_view_count": null,
            "_view_module_version": "1.5.0",
            "description_tooltip": null,
            "_model_module": "@jupyter-widgets/controls",
            "layout": "IPY_MODEL_ed0e548a47a84b7cb8e001db00480723"
          }
        },
        "5886f055575e44ddb9386da9eec1c160": {
          "model_module": "@jupyter-widgets/controls",
          "model_name": "ProgressStyleModel",
          "state": {
            "_view_name": "StyleView",
            "_model_name": "ProgressStyleModel",
            "description_width": "",
            "_view_module": "@jupyter-widgets/base",
            "_model_module_version": "1.5.0",
            "_view_count": null,
            "_view_module_version": "1.2.0",
            "bar_color": null,
            "_model_module": "@jupyter-widgets/controls"
          }
        },
        "e24eecd145f9408d908ecf006d52f136": {
          "model_module": "@jupyter-widgets/base",
          "model_name": "LayoutModel",
          "state": {
            "_view_name": "LayoutView",
            "grid_template_rows": null,
            "right": null,
            "justify_content": null,
            "_view_module": "@jupyter-widgets/base",
            "overflow": null,
            "_model_module_version": "1.2.0",
            "_view_count": null,
            "flex_flow": null,
            "width": null,
            "min_width": null,
            "border": null,
            "align_items": null,
            "bottom": null,
            "_model_module": "@jupyter-widgets/base",
            "top": null,
            "grid_column": null,
            "overflow_y": null,
            "overflow_x": null,
            "grid_auto_flow": null,
            "grid_area": null,
            "grid_template_columns": null,
            "flex": null,
            "_model_name": "LayoutModel",
            "justify_items": null,
            "grid_row": null,
            "max_height": null,
            "align_content": null,
            "visibility": null,
            "align_self": null,
            "height": null,
            "min_height": null,
            "padding": null,
            "grid_auto_rows": null,
            "grid_gap": null,
            "max_width": null,
            "order": null,
            "_view_module_version": "1.2.0",
            "grid_template_areas": null,
            "object_position": null,
            "object_fit": null,
            "grid_auto_columns": null,
            "margin": null,
            "display": null,
            "left": null
          }
        },
        "14ffb48d5f424119baab5ba73973b257": {
          "model_module": "@jupyter-widgets/controls",
          "model_name": "DescriptionStyleModel",
          "state": {
            "_view_name": "StyleView",
            "_model_name": "DescriptionStyleModel",
            "description_width": "",
            "_view_module": "@jupyter-widgets/base",
            "_model_module_version": "1.5.0",
            "_view_count": null,
            "_view_module_version": "1.2.0",
            "_model_module": "@jupyter-widgets/controls"
          }
        },
        "ed0e548a47a84b7cb8e001db00480723": {
          "model_module": "@jupyter-widgets/base",
          "model_name": "LayoutModel",
          "state": {
            "_view_name": "LayoutView",
            "grid_template_rows": null,
            "right": null,
            "justify_content": null,
            "_view_module": "@jupyter-widgets/base",
            "overflow": null,
            "_model_module_version": "1.2.0",
            "_view_count": null,
            "flex_flow": null,
            "width": null,
            "min_width": null,
            "border": null,
            "align_items": null,
            "bottom": null,
            "_model_module": "@jupyter-widgets/base",
            "top": null,
            "grid_column": null,
            "overflow_y": null,
            "overflow_x": null,
            "grid_auto_flow": null,
            "grid_area": null,
            "grid_template_columns": null,
            "flex": null,
            "_model_name": "LayoutModel",
            "justify_items": null,
            "grid_row": null,
            "max_height": null,
            "align_content": null,
            "visibility": null,
            "align_self": null,
            "height": null,
            "min_height": null,
            "padding": null,
            "grid_auto_rows": null,
            "grid_gap": null,
            "max_width": null,
            "order": null,
            "_view_module_version": "1.2.0",
            "grid_template_areas": null,
            "object_position": null,
            "object_fit": null,
            "grid_auto_columns": null,
            "margin": null,
            "display": null,
            "left": null
          }
        }
      }
    }
  },
  "cells": [
    {
      "cell_type": "markdown",
      "metadata": {
        "id": "view-in-github",
        "colab_type": "text"
      },
      "source": [
        "<a href=\"https://colab.research.google.com/github/thortineoc/dw_matrix/blob/master/day5.ipynb\" target=\"_parent\"><img src=\"https://colab.research.google.com/assets/colab-badge.svg\" alt=\"Open In Colab\"/></a>"
      ]
    },
    {
      "cell_type": "code",
      "metadata": {
        "id": "8B-i-LlGDGsQ",
        "colab_type": "code",
        "colab": {
          "base_uri": "https://localhost:8080/",
          "height": 293
        },
        "outputId": "17f27a47-da4b-44a1-9f8d-a9f1d36c7d4f"
      },
      "source": [
        "!pip install eli5"
      ],
      "execution_count": 1,
      "outputs": [
        {
          "output_type": "stream",
          "text": [
            "Collecting eli5\n",
            "\u001b[?25l  Downloading https://files.pythonhosted.org/packages/97/2f/c85c7d8f8548e460829971785347e14e45fa5c6617da374711dec8cb38cc/eli5-0.10.1-py2.py3-none-any.whl (105kB)\n",
            "\r\u001b[K     |███                             | 10kB 20.8MB/s eta 0:00:01\r\u001b[K     |██████▏                         | 20kB 2.2MB/s eta 0:00:01\r\u001b[K     |█████████▎                      | 30kB 2.8MB/s eta 0:00:01\r\u001b[K     |████████████▍                   | 40kB 2.1MB/s eta 0:00:01\r\u001b[K     |███████████████▌                | 51kB 2.3MB/s eta 0:00:01\r\u001b[K     |██████████████████▋             | 61kB 2.8MB/s eta 0:00:01\r\u001b[K     |█████████████████████▊          | 71kB 3.0MB/s eta 0:00:01\r\u001b[K     |████████████████████████▊       | 81kB 3.2MB/s eta 0:00:01\r\u001b[K     |███████████████████████████▉    | 92kB 3.6MB/s eta 0:00:01\r\u001b[K     |███████████████████████████████ | 102kB 3.5MB/s eta 0:00:01\r\u001b[K     |████████████████████████████████| 112kB 3.5MB/s \n",
            "\u001b[?25hRequirement already satisfied: jinja2 in /usr/local/lib/python3.6/dist-packages (from eli5) (2.11.1)\n",
            "Requirement already satisfied: scipy in /usr/local/lib/python3.6/dist-packages (from eli5) (1.4.1)\n",
            "Requirement already satisfied: attrs>16.0.0 in /usr/local/lib/python3.6/dist-packages (from eli5) (19.3.0)\n",
            "Requirement already satisfied: tabulate>=0.7.7 in /usr/local/lib/python3.6/dist-packages (from eli5) (0.8.6)\n",
            "Requirement already satisfied: numpy>=1.9.0 in /usr/local/lib/python3.6/dist-packages (from eli5) (1.17.5)\n",
            "Requirement already satisfied: graphviz in /usr/local/lib/python3.6/dist-packages (from eli5) (0.10.1)\n",
            "Requirement already satisfied: scikit-learn>=0.18 in /usr/local/lib/python3.6/dist-packages (from eli5) (0.22.1)\n",
            "Requirement already satisfied: six in /usr/local/lib/python3.6/dist-packages (from eli5) (1.12.0)\n",
            "Requirement already satisfied: MarkupSafe>=0.23 in /usr/local/lib/python3.6/dist-packages (from jinja2->eli5) (1.1.1)\n",
            "Requirement already satisfied: joblib>=0.11 in /usr/local/lib/python3.6/dist-packages (from scikit-learn>=0.18->eli5) (0.14.1)\n",
            "Installing collected packages: eli5\n",
            "Successfully installed eli5-0.10.1\n"
          ],
          "name": "stdout"
        }
      ]
    },
    {
      "cell_type": "code",
      "metadata": {
        "id": "7tr2F8zXDcEX",
        "colab_type": "code",
        "colab": {}
      },
      "source": [
        "import pandas as pd\n",
        "import numpy as np\n",
        "from sklearn.tree import DecisionTreeRegressor\n",
        "from sklearn.ensemble import RandomForestRegressor\n",
        "\n",
        "from sklearn.metrics import mean_absolute_error\n",
        "from sklearn.model_selection import cross_val_score\n",
        "\n",
        "import eli5\n",
        "from eli5.sklearn import PermutationImportance\n",
        "\n",
        "from ast import literal_eval\n",
        "from tqdm import tqdm_notebook\n"
      ],
      "execution_count": 0,
      "outputs": []
    },
    {
      "cell_type": "code",
      "metadata": {
        "id": "zAAWWoEuEFw2",
        "colab_type": "code",
        "colab": {
          "base_uri": "https://localhost:8080/",
          "height": 35
        },
        "outputId": "396d2384-26f5-4549-c637-ade4e59d4887"
      },
      "source": [
        "cd '/content/drive/My Drive/Colab Notebooks'"
      ],
      "execution_count": 5,
      "outputs": [
        {
          "output_type": "stream",
          "text": [
            "/content/drive/My Drive/Colab Notebooks\n"
          ],
          "name": "stdout"
        }
      ]
    },
    {
      "cell_type": "code",
      "metadata": {
        "id": "0cPJ14d-EYCZ",
        "colab_type": "code",
        "colab": {
          "base_uri": "https://localhost:8080/",
          "height": 35
        },
        "outputId": "077ef9c9-8086-4bff-d6a6-3ff1567ebc68"
      },
      "source": [
        "cd dw_matrix/"
      ],
      "execution_count": 6,
      "outputs": [
        {
          "output_type": "stream",
          "text": [
            "/content/drive/My Drive/Colab Notebooks/dw_matrix\n"
          ],
          "name": "stdout"
        }
      ]
    },
    {
      "cell_type": "code",
      "metadata": {
        "id": "eLX_OpLHEaay",
        "colab_type": "code",
        "colab": {
          "base_uri": "https://localhost:8080/",
          "height": 35
        },
        "outputId": "5c97834d-426b-402e-83a6-e8a42cf6c798"
      },
      "source": [
        "ls data"
      ],
      "execution_count": 7,
      "outputs": [
        {
          "output_type": "stream",
          "text": [
            "men_shoes.csv  shoes_prices.csv\n"
          ],
          "name": "stdout"
        }
      ]
    },
    {
      "cell_type": "code",
      "metadata": {
        "id": "JtmTM7ABEbWp",
        "colab_type": "code",
        "colab": {}
      },
      "source": [
        "df = pd.read_csv('data/men_shoes.csv', low_memory=False)"
      ],
      "execution_count": 0,
      "outputs": []
    },
    {
      "cell_type": "code",
      "metadata": {
        "id": "3ZO1-PnsExcd",
        "colab_type": "code",
        "colab": {
          "base_uri": "https://localhost:8080/",
          "height": 35
        },
        "outputId": "1e9bdcef-b055-4a1c-9b07-79e917e29c4f"
      },
      "source": [
        "df.shape"
      ],
      "execution_count": 9,
      "outputs": [
        {
          "output_type": "execute_result",
          "data": {
            "text/plain": [
              "(18280, 48)"
            ]
          },
          "metadata": {
            "tags": []
          },
          "execution_count": 9
        }
      ]
    },
    {
      "cell_type": "code",
      "metadata": {
        "id": "xfqRBBsdEzaK",
        "colab_type": "code",
        "colab": {}
      },
      "source": [
        "def run_model(feats, model=DecisionTreeRegressor(max_depth=5)):\n",
        "  X = df[feats].values\n",
        "  y=df['prices_amountmin'].values\n",
        "\n",
        " \n",
        "  scores = cross_val_score(model, X, y, scoring='neg_mean_absolute_error')\n",
        "  return np.mean(scores), np.std(scores)"
      ],
      "execution_count": 0,
      "outputs": []
    },
    {
      "cell_type": "code",
      "metadata": {
        "id": "chVVEhiKFDqD",
        "colab_type": "code",
        "colab": {}
      },
      "source": [
        "df['brand_cat'] = df['brand'].map(lambda x: str(x).lower()).factorize()[0]"
      ],
      "execution_count": 0,
      "outputs": []
    },
    {
      "cell_type": "code",
      "metadata": {
        "id": "cdU_YY_gFKGg",
        "colab_type": "code",
        "colab": {
          "base_uri": "https://localhost:8080/",
          "height": 35
        },
        "outputId": "bfb03cf5-e703-49fc-a912-002952c118e7"
      },
      "source": [
        "run_model([ 'brand_cat'])"
      ],
      "execution_count": 18,
      "outputs": [
        {
          "output_type": "execute_result",
          "data": {
            "text/plain": [
              "(-58.133398968282776, 4.206122611474276)"
            ]
          },
          "metadata": {
            "tags": []
          },
          "execution_count": 18
        }
      ]
    },
    {
      "cell_type": "code",
      "metadata": {
        "id": "jAzpaLoBFORh",
        "colab_type": "code",
        "colab": {
          "base_uri": "https://localhost:8080/",
          "height": 35
        },
        "outputId": "cfbffda8-e529-42d1-88e2-8e008c8765a3"
      },
      "source": [
        "model = RandomForestRegressor(max_depth=5, n_estimators=100, random_state=0)\n",
        "run_model([ 'brand_cat'], model)\n"
      ],
      "execution_count": 19,
      "outputs": [
        {
          "output_type": "execute_result",
          "data": {
            "text/plain": [
              "(-57.31783843165656, 4.181246596160967)"
            ]
          },
          "metadata": {
            "tags": []
          },
          "execution_count": 19
        }
      ]
    },
    {
      "cell_type": "code",
      "metadata": {
        "id": "Ryg5vFKPF9TT",
        "colab_type": "code",
        "colab": {
          "base_uri": "https://localhost:8080/",
          "height": 147
        },
        "outputId": "fd74b0fe-b52b-4ce7-e76c-591871795324"
      },
      "source": [
        "df.features.head().values"
      ],
      "execution_count": 21,
      "outputs": [
        {
          "output_type": "execute_result",
          "data": {
            "text/plain": [
              "array(['[{\"key\":\"Gender\",\"value\":[\"Men\"]},{\"key\":\"Shoe Size\",\"value\":[\"M\"]},{\"key\":\"Shoe Category\",\"value\":[\"Men\\'s Shoes\"]},{\"key\":\"Color\",\"value\":[\"Multicolor\"]},{\"key\":\"Manufacturer Part Number\",\"value\":[\"8190-W-NAVY-7.5\"]},{\"key\":\"Brand\",\"value\":[\"Josmo\"]}]',\n",
              "       '[{\"key\":\"Gender\",\"value\":[\"Men\"]},{\"key\":\"Shoe Size\",\"value\":[\"M\"]},{\"key\":\"Shoe Category\",\"value\":[\"Men\\'s Shoes\"]},{\"key\":\"Color\",\"value\":[\"Multicolor\"]},{\"key\":\"Manufacturer Part Number\",\"value\":[\"8190-W-NAVY-7.5\"]},{\"key\":\"Brand\",\"value\":[\"Josmo\"]}]',\n",
              "       '[{\"key\":\"Gender\",\"value\":[\"Men\"]},{\"key\":\"Color\",\"value\":[\"Black\"]},{\"key\":\"Shipping Weight (in pounds)\",\"value\":[\"0.45\"]},{\"key\":\"Condition\",\"value\":[\"New\"]},{\"key\":\"Brand\",\"value\":[\"SERVUS BY HONEYWELL\"]},{\"key\":\"manufacturer_part_number\",\"value\":[\"ZSR101BLMLG\"]}]',\n",
              "       '[{\"key\":\"Gender\",\"value\":[\"Men\"]},{\"key\":\"Color\",\"value\":[\"Black\"]},{\"key\":\"Shipping Weight (in pounds)\",\"value\":[\"0.45\"]},{\"key\":\"Condition\",\"value\":[\"New\"]},{\"key\":\"Brand\",\"value\":[\"SERVUS BY HONEYWELL\"]},{\"key\":\"manufacturer_part_number\",\"value\":[\"ZSR101BLMLG\"]}]',\n",
              "       '[{\"key\":\"Gender\",\"value\":[\"Men\"]},{\"key\":\"Color\",\"value\":[\"Black\"]},{\"key\":\"Shipping Weight (in pounds)\",\"value\":[\"0.45\"]},{\"key\":\"Condition\",\"value\":[\"New\"]},{\"key\":\"Brand\",\"value\":[\"SERVUS BY HONEYWELL\"]},{\"key\":\"manufacturer_part_number\",\"value\":[\"ZSR101BLMLG\"]}]'],\n",
              "      dtype=object)"
            ]
          },
          "metadata": {
            "tags": []
          },
          "execution_count": 21
        }
      ]
    },
    {
      "cell_type": "code",
      "metadata": {
        "id": "C64LqsxvGTkU",
        "colab_type": "code",
        "colab": {
          "base_uri": "https://localhost:8080/",
          "height": 127
        },
        "outputId": "01521f34-9cb1-45f3-e313-bfc79cd1c00b"
      },
      "source": [
        "def parse_features(x):\n",
        "  output_dict = {}\n",
        "  if str(x) == 'nan': return output_dict\n",
        "\n",
        "  features = literal_eval(x.replace('\\\\\"','\"'))\n",
        "  for item in features:\n",
        "    key=item['key'].lower().strip()\n",
        "    value=item['value'][0].lower().strip()\n",
        "\n",
        "    output_dict[key]=value\n",
        "  \n",
        "  return output_dict\n",
        "\n",
        "df['features_parsed'] = df['features'].map(parse_features)  \n",
        "df['features_parsed'].head().values"
      ],
      "execution_count": 86,
      "outputs": [
        {
          "output_type": "execute_result",
          "data": {
            "text/plain": [
              "array([{'gender': 'men', 'shoe size': 'm', 'shoe category': \"men's shoes\", 'color': 'multicolor', 'manufacturer part number': '8190-w-navy-7.5', 'brand': 'josmo'},\n",
              "       {'gender': 'men', 'shoe size': 'm', 'shoe category': \"men's shoes\", 'color': 'multicolor', 'manufacturer part number': '8190-w-navy-7.5', 'brand': 'josmo'},\n",
              "       {'gender': 'men', 'color': 'black', 'shipping weight (in pounds)': '0.45', 'condition': 'new', 'brand': 'servus by honeywell', 'manufacturer_part_number': 'zsr101blmlg'},\n",
              "       {'gender': 'men', 'color': 'black', 'shipping weight (in pounds)': '0.45', 'condition': 'new', 'brand': 'servus by honeywell', 'manufacturer_part_number': 'zsr101blmlg'},\n",
              "       {'gender': 'men', 'color': 'black', 'shipping weight (in pounds)': '0.45', 'condition': 'new', 'brand': 'servus by honeywell', 'manufacturer_part_number': 'zsr101blmlg'}],\n",
              "      dtype=object)"
            ]
          },
          "metadata": {
            "tags": []
          },
          "execution_count": 86
        }
      ]
    },
    {
      "cell_type": "code",
      "metadata": {
        "id": "C7uksJUtIaGG",
        "colab_type": "code",
        "colab": {
          "base_uri": "https://localhost:8080/",
          "height": 35
        },
        "outputId": "46aa53f9-0310-4b30-9b02-bf67a2337a08"
      },
      "source": [
        "keys = set()\n",
        "\n",
        "df['features_parsed'].map(lambda x: keys.update(x.keys()))\n",
        "len(keys)"
      ],
      "execution_count": 29,
      "outputs": [
        {
          "output_type": "execute_result",
          "data": {
            "text/plain": [
              "476"
            ]
          },
          "metadata": {
            "tags": []
          },
          "execution_count": 29
        }
      ]
    },
    {
      "cell_type": "code",
      "metadata": {
        "id": "Dp_dVp6IIq4d",
        "colab_type": "code",
        "colab": {
          "base_uri": "https://localhost:8080/",
          "height": 67,
          "referenced_widgets": [
            "7aab5d6684614440a5795049e51b80e8",
            "513a202223274dfa8cf7255f350385f2",
            "0e908b2a3981407aa3accfddb3ee255e",
            "be4643590f75472f883d43062a3772b7",
            "5886f055575e44ddb9386da9eec1c160",
            "e24eecd145f9408d908ecf006d52f136",
            "14ffb48d5f424119baab5ba73973b257",
            "ed0e548a47a84b7cb8e001db00480723"
          ]
        },
        "outputId": "0a6fff3c-0926-4872-b7a2-5f81bc6cb38e"
      },
      "source": [
        "def get_name_feat(key):\n",
        "  return 'feat_'+key\n",
        "\n",
        "for key in tqdm_notebook(keys):\n",
        "  df[get_name_feat(key)]=df.features_parsed.map(lambda feats: feats[key] if key in feats else np.nan)"
      ],
      "execution_count": 32,
      "outputs": [
        {
          "output_type": "display_data",
          "data": {
            "application/vnd.jupyter.widget-view+json": {
              "model_id": "7aab5d6684614440a5795049e51b80e8",
              "version_minor": 0,
              "version_major": 2
            },
            "text/plain": [
              "HBox(children=(IntProgress(value=0, max=476), HTML(value='')))"
            ]
          },
          "metadata": {
            "tags": []
          }
        },
        {
          "output_type": "stream",
          "text": [
            "\n"
          ],
          "name": "stdout"
        }
      ]
    },
    {
      "cell_type": "code",
      "metadata": {
        "id": "3ptYBxUfKtlh",
        "colab_type": "code",
        "colab": {
          "base_uri": "https://localhost:8080/",
          "height": 182
        },
        "outputId": "0088a8a6-0225-4d24-9bee-994402655768"
      },
      "source": [
        "df.shape[0]\n",
        "df.columns\n"
      ],
      "execution_count": 87,
      "outputs": [
        {
          "output_type": "execute_result",
          "data": {
            "text/plain": [
              "Index(['id', 'asins', 'brand', 'categories', 'colors', 'count', 'dateadded',\n",
              "       'dateupdated', 'descriptions', 'dimension',\n",
              "       ...\n",
              "       'feat_resolution megapixels_cat', 'feat_mechanic_cat',\n",
              "       'feat_global composite sports type_cat', 'feat_rx-able_cat',\n",
              "       'feat_band length (in.)_cat', 'feat_full product manual_cat',\n",
              "       'feat_style #_cat', 'feat_shipping weight_cat', 'feat_front style_cat',\n",
              "       'feat_impact resistant_cat'],\n",
              "      dtype='object', length=1002)"
            ]
          },
          "metadata": {
            "tags": []
          },
          "execution_count": 87
        }
      ]
    },
    {
      "cell_type": "code",
      "metadata": {
        "id": "SRDD-NfXLGu5",
        "colab_type": "code",
        "colab": {}
      },
      "source": [
        "keys_stat={}\n",
        "for key in keys:\n",
        "  keys_stat[key]=df[False==df[get_name_feat(key)].isnull()].shape[0]/df.shape[0]*100"
      ],
      "execution_count": 0,
      "outputs": []
    },
    {
      "cell_type": "code",
      "metadata": {
        "id": "rY-NPepVLfzD",
        "colab_type": "code",
        "colab": {
          "base_uri": "https://localhost:8080/",
          "height": 109
        },
        "outputId": "c838e778-a7a9-4984-ad37-a2daab1cf8ee"
      },
      "source": [
        "{k:v for k,v in keys_stat.items() if v > 30 }"
      ],
      "execution_count": 41,
      "outputs": [
        {
          "output_type": "execute_result",
          "data": {
            "text/plain": [
              "{'brand': 48.62691466083151,\n",
              " 'color': 47.784463894967175,\n",
              " 'gender': 50.17505470459519,\n",
              " 'manufacturer part number': 36.252735229759296,\n",
              " 'material': 34.9070021881838}"
            ]
          },
          "metadata": {
            "tags": []
          },
          "execution_count": 41
        }
      ]
    },
    {
      "cell_type": "code",
      "metadata": {
        "id": "nIJeBOs1L4rl",
        "colab_type": "code",
        "colab": {}
      },
      "source": [
        "df['feat_brand_cat'] = df['feat_brand'].factorize()[0]\n",
        "df['feat_color_cat'] = df['feat_color'].factorize()[0]\n",
        "df['feat_gender_cat'] = df['feat_gender'].factorize()[0]\n",
        "df['feat_manufacturer part number_cat'] = df['feat_manufacturer part number'].factorize()[0]\n",
        "df['feat_material_cat'] = df['feat_material'].factorize()[0]\n",
        "\n",
        "df['feat_sport_cat'] = df['feat_sport'].factorize()[0]\n",
        "df['feat_style_cat'] = df['feat_style'].factorize()[0]\n",
        "\n",
        "#df['feat_metal_type_cat'] = df['feat_metal_type'].factorize()[0]\n",
        "#df['feat_shape_cat'] = df['feat_shape'].factorize()[0]\n",
        "\n",
        "for key in keys:\n",
        "  df[get_name_feat(key) + '_cat'] = df[get_name_feat(key)].factorize()[0]\n",
        "\n",
        "  "
      ],
      "execution_count": 0,
      "outputs": []
    },
    {
      "cell_type": "code",
      "metadata": {
        "id": "tczoAr4PMeTo",
        "colab_type": "code",
        "colab": {
          "base_uri": "https://localhost:8080/",
          "height": 206
        },
        "outputId": "457442f9-c9bb-4b6d-d556-8eea4120a806"
      },
      "source": [
        "df['brand'] = df['brand'].map(lambda x: str(x).lower() )\n",
        "df[df.brand == df.feat_brand][['brand', 'feat_brand']].head()"
      ],
      "execution_count": 88,
      "outputs": [
        {
          "output_type": "execute_result",
          "data": {
            "text/html": [
              "<div>\n",
              "<style scoped>\n",
              "    .dataframe tbody tr th:only-of-type {\n",
              "        vertical-align: middle;\n",
              "    }\n",
              "\n",
              "    .dataframe tbody tr th {\n",
              "        vertical-align: top;\n",
              "    }\n",
              "\n",
              "    .dataframe thead th {\n",
              "        text-align: right;\n",
              "    }\n",
              "</style>\n",
              "<table border=\"1\" class=\"dataframe\">\n",
              "  <thead>\n",
              "    <tr style=\"text-align: right;\">\n",
              "      <th></th>\n",
              "      <th>brand</th>\n",
              "      <th>feat_brand</th>\n",
              "    </tr>\n",
              "  </thead>\n",
              "  <tbody>\n",
              "    <tr>\n",
              "      <th>0</th>\n",
              "      <td>josmo</td>\n",
              "      <td>josmo</td>\n",
              "    </tr>\n",
              "    <tr>\n",
              "      <th>1</th>\n",
              "      <td>josmo</td>\n",
              "      <td>josmo</td>\n",
              "    </tr>\n",
              "    <tr>\n",
              "      <th>2</th>\n",
              "      <td>servus by honeywell</td>\n",
              "      <td>servus by honeywell</td>\n",
              "    </tr>\n",
              "    <tr>\n",
              "      <th>3</th>\n",
              "      <td>servus by honeywell</td>\n",
              "      <td>servus by honeywell</td>\n",
              "    </tr>\n",
              "    <tr>\n",
              "      <th>4</th>\n",
              "      <td>servus by honeywell</td>\n",
              "      <td>servus by honeywell</td>\n",
              "    </tr>\n",
              "  </tbody>\n",
              "</table>\n",
              "</div>"
            ],
            "text/plain": [
              "                 brand           feat_brand\n",
              "0                josmo                josmo\n",
              "1                josmo                josmo\n",
              "2  servus by honeywell  servus by honeywell\n",
              "3  servus by honeywell  servus by honeywell\n",
              "4  servus by honeywell  servus by honeywell"
            ]
          },
          "metadata": {
            "tags": []
          },
          "execution_count": 88
        }
      ]
    },
    {
      "cell_type": "code",
      "metadata": {
        "id": "tm7SPXTHM9nN",
        "colab_type": "code",
        "colab": {
          "base_uri": "https://localhost:8080/",
          "height": 35
        },
        "outputId": "68f25c04-0dbd-48b5-fbaf-7f63e35e2eb0"
      },
      "source": [
        "feats=['']\n",
        "df[df.brand == df.feat_brand].shape"
      ],
      "execution_count": 89,
      "outputs": [
        {
          "output_type": "execute_result",
          "data": {
            "text/plain": [
              "(8846, 1002)"
            ]
          },
          "metadata": {
            "tags": []
          },
          "execution_count": 89
        }
      ]
    },
    {
      "cell_type": "code",
      "metadata": {
        "id": "4F_juwMwNEaD",
        "colab_type": "code",
        "colab": {
          "base_uri": "https://localhost:8080/",
          "height": 35
        },
        "outputId": "732dd512-2c23-46a5-de77-53a16e5d80a6"
      },
      "source": [
        "model=RandomForestRegressor(max_depth=5,n_estimators=100)\n",
        "run_model(['brand_cat'], model)"
      ],
      "execution_count": 79,
      "outputs": [
        {
          "output_type": "execute_result",
          "data": {
            "text/plain": [
              "(-57.3195252702473, 4.141156242605314)"
            ]
          },
          "metadata": {
            "tags": []
          },
          "execution_count": 79
        }
      ]
    },
    {
      "cell_type": "code",
      "metadata": {
        "id": "GC-hR28cSTio",
        "colab_type": "code",
        "colab": {
          "base_uri": "https://localhost:8080/",
          "height": 1000
        },
        "outputId": "5161f0a9-bd81-456c-b175-92696c625d40"
      },
      "source": [
        "feats_cat=[x for x in df.columns if 'cat' in x]\n",
        "feats_cat"
      ],
      "execution_count": 90,
      "outputs": [
        {
          "output_type": "execute_result",
          "data": {
            "text/plain": [
              "['categories',\n",
              " 'brand_cat',\n",
              " 'feat_location - city/state',\n",
              " 'feat_multi pack indicator',\n",
              " 'feat_catalog',\n",
              " 'feat_fabrication',\n",
              " 'feat_shoe category',\n",
              " 'feat_recommended location',\n",
              " 'feat_location - country',\n",
              " 'feat_clothing category',\n",
              " 'feat_certifications and listings',\n",
              " 'feat_brand_cat',\n",
              " 'feat_color_cat',\n",
              " 'feat_gender_cat',\n",
              " 'feat_manufacturer part number_cat',\n",
              " 'feat_material_cat',\n",
              " 'feat_sport_cat',\n",
              " 'feat_style_cat',\n",
              " 'feat_bridge/temple size:_cat',\n",
              " 'feat_contained battery type_cat',\n",
              " 'feat_fits over eyeglasses_cat',\n",
              " 'feat_compatible devices_cat',\n",
              " 'feat_fuel type_cat',\n",
              " 'feat_frame shape_cat',\n",
              " 'feat_safety features_cat',\n",
              " 'feat_shipping weight (in pounds)_cat',\n",
              " 'feat_made in_cat',\n",
              " 'feat_shape_cat',\n",
              " 'feat_location - city/state_cat',\n",
              " 'feat_age group_cat',\n",
              " 'feat_case type:_cat',\n",
              " 'feat_multi pack indicator_cat',\n",
              " 'feat_licensed_cat',\n",
              " 'feat_item type_cat',\n",
              " 'feat_material detail-1_cat',\n",
              " 'feat_crown_cat',\n",
              " 'feat_jacket length_cat',\n",
              " 'feat_boot height_cat',\n",
              " 'feat_disclosures_cat',\n",
              " 'feat_mpn_cat',\n",
              " 'feat_finish_cat',\n",
              " 'feat_age segment_cat',\n",
              " 'feat_ring style_cat',\n",
              " 'feat_shoe width_cat',\n",
              " 'feat_case material_cat',\n",
              " 'feat_color/finish family_cat',\n",
              " 'feat_colour_cat',\n",
              " 'feat_fastener_cat',\n",
              " 'feat_number of heat settings_cat',\n",
              " 'feat_temple size:_cat',\n",
              " 'feat_terrain_cat',\n",
              " 'feat_watch shape_cat',\n",
              " 'feat_autographed_cat',\n",
              " 'feat_item weight_cat',\n",
              " 'feat_type 2_cat',\n",
              " 'feat_design_cat',\n",
              " 'feat_is polarized_cat',\n",
              " 'feat_number of wheels_cat',\n",
              " 'feat_necklace type_cat',\n",
              " 'feat_eye protection type_cat',\n",
              " 'feat_feature_cat',\n",
              " 'feat_hat style_cat',\n",
              " 'feat_removable hood_cat',\n",
              " 'feat_product in inches (l x w x h)_cat',\n",
              " 'feat_light transmission (vlt)_cat',\n",
              " 'feat_case back_cat',\n",
              " 'feat_country of manufacturer_cat',\n",
              " 'feat_nike product #_cat',\n",
              " 'feat_chain included_cat',\n",
              " 'feat_power reserve_cat',\n",
              " 'feat_diameter_cat',\n",
              " 'feat_date first available_cat',\n",
              " 'feat_labor_cat',\n",
              " 'feat_diamond clarity_cat',\n",
              " 'feat_bridge width_cat',\n",
              " 'feat_occasion_cat',\n",
              " 'feat_sock size_cat',\n",
              " 'feat_water resistant_cat',\n",
              " 'feat_shoe fastening type_cat',\n",
              " 'feat_pattern_cat',\n",
              " 'feat_catalog_cat',\n",
              " 'feat_country of origin - assembly_cat',\n",
              " 'feat_elastic banded waist_cat',\n",
              " 'feat_video game platform_cat',\n",
              " 'feat_suitable for_cat',\n",
              " 'feat_shirt size_cat',\n",
              " 'feat_manufacturer number_cat',\n",
              " 'feat_country of origin - components_cat',\n",
              " 'feat_lens material_cat',\n",
              " 'feat_contains batteries_cat',\n",
              " 'feat_size_cat',\n",
              " 'feat_resolution_cat',\n",
              " 'feat_domestic shipping_cat',\n",
              " 'feat_seller inventory number_cat',\n",
              " 'feat_model no._cat',\n",
              " 'feat_shoe height_cat',\n",
              " 'feat_100% adidas authentic_cat',\n",
              " 'feat_bracelet style_cat',\n",
              " 'feat_type of sole_cat',\n",
              " 'feat_uv rating_cat',\n",
              " 'feat_number of items_cat',\n",
              " 'feat_frame style_cat',\n",
              " 'feat_navy blue_cat',\n",
              " 'feat_has expiration_cat',\n",
              " 'feat_inv_cat',\n",
              " 'feat_includes_cat',\n",
              " 'feat_fabric content_cat',\n",
              " 'feat_animal type_cat',\n",
              " 'feat_fastener type_cat',\n",
              " 'feat_waist size_cat',\n",
              " 'feat_waterproof_cat',\n",
              " 'feat_kids backpacks_cat',\n",
              " 'feat_metal stamp_cat',\n",
              " 'feat_fits brands_cat',\n",
              " 'feat_gold karat_cat',\n",
              " 'feat_resizable_cat',\n",
              " 'feat_is dark sky-compliant_cat',\n",
              " 'feat_protection_cat',\n",
              " 'feat_heel height_cat',\n",
              " 'feat_is waterproof_cat',\n",
              " 'feat_black_cat',\n",
              " 'feat_condition_cat',\n",
              " 'feat_pant style_cat',\n",
              " 'feat_country of origin components:_cat',\n",
              " 'feat_garment care_cat',\n",
              " 'feat_reinforced pockets_cat',\n",
              " 'feat_box_cat',\n",
              " 'feat_материал_cat',\n",
              " 'feat_lens_cat',\n",
              " 'feat_subdial_cat',\n",
              " 'feat_transactionid_cat',\n",
              " 'feat_article_cat',\n",
              " 'feat_band color_cat',\n",
              " 'feat_issued/ not-issued_cat',\n",
              " 'feat_watch power source_cat',\n",
              " 'feat_polarized_cat',\n",
              " 'feat_insulated_cat',\n",
              " 'feat_fabrication_cat',\n",
              " 'feat_quantity in set_cat',\n",
              " 'feat_ground_cat',\n",
              " 'feat_neckline_cat',\n",
              " 'feat_character_cat',\n",
              " 'feat_light weight_cat',\n",
              " 'feat_eyewear frame style_cat',\n",
              " 'feat_wheeled_cat',\n",
              " 'feat_case diameter_cat',\n",
              " 'feat_sports league_cat',\n",
              " 'feat_polarised_cat',\n",
              " 'feat_hood_cat',\n",
              " 'feat_manufacturer_part_number_cat',\n",
              " 'feat_work shoes_cat',\n",
              " 'feat_parts_cat',\n",
              " 'feat_hands_cat',\n",
              " 'feat_lens width_cat',\n",
              " 'feat_dial markers_cat',\n",
              " 'feat_label_cat',\n",
              " 'feat_capacity_cat',\n",
              " 'feat_clothing size_cat',\n",
              " 'feat_date first available at amazon.co.uk_cat',\n",
              " 'feat_style number_cat',\n",
              " 'feat_lining material_cat',\n",
              " 'feat_pocket_cat',\n",
              " 'feat_assembled product dimensions (l x w x h)_cat',\n",
              " 'feat_technician_cat',\n",
              " 'feat_dial color_cat',\n",
              " 'feat_jewelry setting_cat',\n",
              " 'feat_hardsided or softsided_cat',\n",
              " 'feat_item width_cat',\n",
              " 'feat_applicable_cat',\n",
              " 'feat_power type_cat',\n",
              " 'feat_target audience_cat',\n",
              " 'feat_heat zones_cat',\n",
              " 'feat_leather :_cat',\n",
              " 'feat_has adaptive lenses_cat',\n",
              " 'feat_shoe category_cat',\n",
              " 'feat_lining_cat',\n",
              " 'feat_safety apparel product type_cat',\n",
              " 'feat_batteries required_cat',\n",
              " 'feat_protects against_cat',\n",
              " 'feat_chain/necklace length (in.)_cat',\n",
              " 'feat_is lined_cat',\n",
              " 'feat_hairstyle_cat',\n",
              " 'feat_item spec attr - style (ebay)_cat',\n",
              " 'feat_audience_cat',\n",
              " 'feat_sleeve style_cat',\n",
              " 'feat_szie_cat',\n",
              " 'feat_auto shut-off_cat',\n",
              " 'feat_model number_cat',\n",
              " 'feat_digital camera_cat',\n",
              " 'feat_international shipping_cat',\n",
              " 'feat_closure style_cat',\n",
              " 'feat_number of batteries included_cat',\n",
              " 'feat_outer material_cat',\n",
              " 'feat_sock style_cat',\n",
              " 'feat_hunting_cat',\n",
              " 'feat_batteries included?_cat',\n",
              " 'feat_material type_cat',\n",
              " 'feat_cleaning, care & maintenance_cat',\n",
              " 'feat_watch style_cat',\n",
              " 'feat_crystal_cat',\n",
              " 'feat_sleeve length_cat',\n",
              " 'feat_casing_cat',\n",
              " 'feat_shipping to usa_cat',\n",
              " 'feat_insulation_cat',\n",
              " 'feat_euro size_cat',\n",
              " 'feat_frame color_cat',\n",
              " 'feat_interior pockets_cat',\n",
              " 'feat_looks best on these face shapes:_cat',\n",
              " 'feat_retail price_cat',\n",
              " 'feat_guaranteed authentic_cat',\n",
              " 'feat_profession_cat',\n",
              " 'feat_fit to_cat',\n",
              " 'feat_bed size_cat',\n",
              " 'feat_main color_cat',\n",
              " 'feat_purpose_cat',\n",
              " 'feat_overall material_cat',\n",
              " 'feat_inseam_cat',\n",
              " 'feat_frame material:_cat',\n",
              " 'feat_adidas_cat',\n",
              " 'feat_year_cat',\n",
              " 'feat_recommended location_cat',\n",
              " 'feat_part type_cat',\n",
              " 'feat_heart rate monitor_cat',\n",
              " 'feat_country////region of manufacture_cat',\n",
              " 'feat_golf shoe type_cat',\n",
              " 'feat_used with equipment type_cat',\n",
              " 'feat_sizebridge_cat',\n",
              " 'feat_lined_cat',\n",
              " 'feat_manufacturer sku_cat',\n",
              " 'feat_case thickness_cat',\n",
              " 'feat_polarized?_cat',\n",
              " 'feat_bridge size:_cat',\n",
              " 'feat_manufacturer_cat',\n",
              " 'feat_attachment_cat',\n",
              " 'feat_weather-resistant_cat',\n",
              " 'feat_charge time (minutes)_cat',\n",
              " 'feat_conflict_cat',\n",
              " 'feat_battery type_cat',\n",
              " 'feat_pronation_cat',\n",
              " 'feat_stability_cat',\n",
              " 'feat_series name_cat',\n",
              " 'feat_fit_cat',\n",
              " 'feat_theme_cat',\n",
              " 'feat_fabric_cat',\n",
              " 'feat_characteristics_cat',\n",
              " 'feat_number of pockets_cat',\n",
              " 'feat_sizearm_cat',\n",
              " 'feat_product name_cat',\n",
              " 'feat_cushioning_cat',\n",
              " 'feat_cm_cat',\n",
              " 'feat_item weight unit of measure_cat',\n",
              " 'feat_chest_cat',\n",
              " 'feat_band manufacturer_cat',\n",
              " 'feat_item package quantity_cat',\n",
              " 'feat_stone type_cat',\n",
              " 'feat_military style_cat',\n",
              " 'feat_bezel_cat',\n",
              " 'feat_stock no._cat',\n",
              " 'feat_model_cat',\n",
              " 'feat_accessory type_cat',\n",
              " 'feat_upper material_cat',\n",
              " 'feat_general warranty_cat',\n",
              " 'feat_frame depth_cat',\n",
              " 'feat_main colour_cat',\n",
              " 'feat_clothing type_cat',\n",
              " 'feat_picture_cat',\n",
              " 'feat_is portable_cat',\n",
              " 'feat_diamond color_cat',\n",
              " 'feat_mirrored_cat',\n",
              " 'feat_international shipping?_cat',\n",
              " 'feat_what includes_cat',\n",
              " 'feat_amazonbestsellersrank_cat',\n",
              " 'feat_features_cat',\n",
              " 'feat_fine or fashion_cat',\n",
              " 'feat_sub style_cat',\n",
              " 'feat_case type_cat',\n",
              " 'feat_era_cat',\n",
              " 'feat_metal color_cat',\n",
              " 'feat_band type_cat',\n",
              " 'feat_front_cat',\n",
              " 'feat_product #_cat',\n",
              " 'feat_very popular bag now a days_cat',\n",
              " 'feat_stylenumber_cat',\n",
              " 'feat_charger included_cat',\n",
              " 'feat_weather resistant_cat',\n",
              " 'feat_style:_cat',\n",
              " 'feat_ean_cat',\n",
              " 'feat_number of pieces_cat',\n",
              " 'feat_material composition_cat',\n",
              " 'feat_vendor description_cat',\n",
              " 'feat_ul safety listing_cat',\n",
              " 'feat_is weather-resistant_cat',\n",
              " 'feat_location - country_cat',\n",
              " 'feat_is energy star-certified_cat',\n",
              " 'feat_features & fastening_cat',\n",
              " 'feat_height_cat',\n",
              " 'feat_thick, warm, cozy_cat',\n",
              " 'feat_is recyclable_cat',\n",
              " 'feat_dimensions_cat',\n",
              " 'feat_to fit_cat',\n",
              " 'feat_lens type_cat',\n",
              " 'feat_productgroup_cat',\n",
              " 'feat_carats_cat',\n",
              " 'feat_atpv arc rating_cat',\n",
              " 'feat_case finish_cat',\n",
              " 'feat_sku number_cat',\n",
              " 'feat_arm_cat',\n",
              " 'feat_season_cat',\n",
              " 'feat_length_cat',\n",
              " 'feat_flame resistant_cat',\n",
              " 'feat_gemstone type_cat',\n",
              " 'feat_casual & dress shoe style_cat',\n",
              " 'feat_shoe closure_cat',\n",
              " 'feat_safety feature_cat',\n",
              " 'feat_spikes type_cat',\n",
              " 'feat_place of origin_cat',\n",
              " 'feat_fits model_cat',\n",
              " 'feat_designer_cat',\n",
              " 'feat_waist_cat',\n",
              " 'feat_materials_cat',\n",
              " 'feat_fabric care instructions_cat',\n",
              " 'feat_fits styles_cat',\n",
              " 'feat_origin of components_cat',\n",
              " 'feat_instrument_cat',\n",
              " 'feat_product id_cat',\n",
              " 'feat_footwear type_cat',\n",
              " 'feat_sports team_cat',\n",
              " 'feat_shade_cat',\n",
              " 'feat_combined shipping_cat',\n",
              " 'feat_watch band material_cat',\n",
              " 'feat_measurements:_cat',\n",
              " 'feat_shoe size_cat',\n",
              " 'feat_assembled in country of origin_cat',\n",
              " 'feat_number of compartments_cat',\n",
              " 'feat_eye size:_cat',\n",
              " 'feat_tactical_cat',\n",
              " 'feat_count_cat',\n",
              " 'feat_sole_cat',\n",
              " 'feat_clothing product type_cat',\n",
              " 'feat_watch case shape_cat',\n",
              " 'feat_name_cat',\n",
              " 'feat_uv protection_cat',\n",
              " 'feat_closure_cat',\n",
              " 'feat_fabric material_cat',\n",
              " 'feat_sku_cat',\n",
              " 'feat_color family_cat',\n",
              " 'feat_alarm_cat',\n",
              " 'feat_best sellers rank_cat',\n",
              " 'feat_lens socket width_cat',\n",
              " 'feat_product type_cat',\n",
              " 'feat_lens tint_cat',\n",
              " 'feat_country/ organization_cat',\n",
              " 'feat_machine washable_cat',\n",
              " 'feat_width_cat',\n",
              " 'feat_antiscratch lens coating_cat',\n",
              " 'feat_genre_cat',\n",
              " 'feat_size/dimensions_cat',\n",
              " 'feat_country/region of manufacture_cat',\n",
              " 'feat_dial material_cat',\n",
              " 'feat_leather grade_cat',\n",
              " 'feat_mpn#_cat',\n",
              " 'feat_item color_cat',\n",
              " 'feat_fishing_cat',\n",
              " 'feat_fabric type_cat',\n",
              " 'feat_temple length_cat',\n",
              " 'feat_display technology_cat',\n",
              " 'feat_battery voltage_cat',\n",
              " 'feat_water-resistant_cat',\n",
              " 'feat_movement_cat',\n",
              " 'feat_use_cat',\n",
              " 'feat_pattern or design_cat',\n",
              " 'feat_item style_cat',\n",
              " 'feat_band length_cat',\n",
              " 'feat_lens technology_cat',\n",
              " 'feat_toe type_cat',\n",
              " 'feat_product dimensions_cat',\n",
              " 'feat_assembled product weight_cat',\n",
              " 'feat_sub type_cat',\n",
              " 'feat_removable liner_cat',\n",
              " 'feat_item character_cat',\n",
              " 'feat_country//region of manufacture_cat',\n",
              " 'feat_has paper wood_cat',\n",
              " 'feat_nike id_cat',\n",
              " 'feat_age start_cat',\n",
              " 'feat_country of manufacture_cat',\n",
              " 'feat_lens color family_cat',\n",
              " 'feat_chronograph_cat',\n",
              " 'feat_colour code_cat',\n",
              " 'feat_date_cat',\n",
              " 'feat_part number_cat',\n",
              " 'feat_is wheeled_cat',\n",
              " 'feat_is orthopedic_cat',\n",
              " 'feat_style name_cat',\n",
              " 'feat_msrp_cat',\n",
              " 'feat_style code_cat',\n",
              " 'feat_date first available at amazon.ca_cat',\n",
              " 'feat_walmart no._cat',\n",
              " 'feat_frame type_cat',\n",
              " 'feat_primary color_cat',\n",
              " 'feat_chest size_cat',\n",
              " 'feat_primary shelf id_cat',\n",
              " 'feat_clasp type_cat',\n",
              " 'feat_compass_cat',\n",
              " 'feat_lens color_cat',\n",
              " 'feat_gps_cat',\n",
              " 'feat_polarized lenses_cat',\n",
              " 'feat_year made_cat',\n",
              " 'feat_athlete_cat',\n",
              " 'feat_airport friendly_cat',\n",
              " 'feat_reinforced knee_cat',\n",
              " 'feat_expandable_cat',\n",
              " 'feat_batteries required?_cat',\n",
              " 'feat_display_cat',\n",
              " 'feat_fits most screen size_cat',\n",
              " 'feat_age gender group_cat',\n",
              " 'feat_lens material:_cat',\n",
              " 'feat_variant group id_cat',\n",
              " 'feat_chain length_cat',\n",
              " 'feat_face shape_cat',\n",
              " 'feat_leg opening:_cat',\n",
              " 'feat_leg_cat',\n",
              " 'feat_fabric care_cat',\n",
              " 'feat_wind resistant_cat',\n",
              " 'feat_packageweight_cat',\n",
              " 'feat_motion control_cat',\n",
              " 'feat_adjustable_cat',\n",
              " 'feat_fits models_cat',\n",
              " 'feat_contains cubic zirconia_cat',\n",
              " 'feat_rise_cat',\n",
              " 'feat_hammer loop_cat',\n",
              " 'feat_has mercury_cat',\n",
              " 'feat_clothing category_cat',\n",
              " 'feat_designed for_cat',\n",
              " 'feat_certifications and listings_cat',\n",
              " 'feat_nickel free_cat',\n",
              " 'feat_is water-resistant_cat',\n",
              " 'feat_auto_cat',\n",
              " 'feat_wheel type_cat',\n",
              " 'feat_handbag style_cat',\n",
              " 'feat_metal type_cat',\n",
              " 'feat_band material_cat',\n",
              " 'feat_vehicle type_cat',\n",
              " 'feat_age end_cat',\n",
              " 'feat_smart watch_cat',\n",
              " 'feat_type_cat',\n",
              " 'feat_case tone_cat',\n",
              " 'feat_country of origin assembly:_cat',\n",
              " 'feat_package_cat',\n",
              " 'feat_clothing size type_cat',\n",
              " 'feat_enhanced visibility (reflective)_cat',\n",
              " 'feat_net weight_cat',\n",
              " 'feat_foot arch_cat',\n",
              " 'feat_sku#_cat',\n",
              " 'feat_construction_cat',\n",
              " 'feat_weight_cat',\n",
              " 'feat_high visibility (ansi compliant)_cat',\n",
              " 'feat_release_cat',\n",
              " 'feat_frame material_cat',\n",
              " 'feat_color mapping_cat',\n",
              " 'feat_age_cat',\n",
              " 'feat_free item_cat',\n",
              " 'feat_isbn_cat',\n",
              " 'feat_age range_cat',\n",
              " 'feat_boxed-product dimensions_cat',\n",
              " 'feat_country of origin_cat',\n",
              " 'feat_authenticity_cat',\n",
              " 'feat_ring size_cat',\n",
              " 'feat_bridge_cat',\n",
              " 'feat_fit:_cat',\n",
              " 'feat_����������������_cat',\n",
              " 'feat_comfort technology_cat',\n",
              " 'feat_special features_cat',\n",
              " 'feat_recommended use_cat',\n",
              " 'feat_band width_cat',\n",
              " 'feat_bag size range_cat',\n",
              " 'feat_wash_cat',\n",
              " 'feat_hooded_cat',\n",
              " 'feat_resolution megapixels_cat',\n",
              " 'feat_mechanic_cat',\n",
              " 'feat_global composite sports type_cat',\n",
              " 'feat_rx-able_cat',\n",
              " 'feat_band length (in.)_cat',\n",
              " 'feat_full product manual_cat',\n",
              " 'feat_style #_cat',\n",
              " 'feat_shipping weight_cat',\n",
              " 'feat_front style_cat',\n",
              " 'feat_impact resistant_cat']"
            ]
          },
          "metadata": {
            "tags": []
          },
          "execution_count": 90
        }
      ]
    },
    {
      "cell_type": "code",
      "metadata": {
        "id": "g6XANXUYNXke",
        "colab_type": "code",
        "colab": {}
      },
      "source": [
        "feats=['brand_cat', 'feat_brand_cat', 'feat_shape_cat', 'feat_gender_cat', 'feat_material_cat', 'feat_metal type_cat', 'feat_style_cat', 'feat_sport_cat']\n",
        "#feats+=feats_cat\n",
        "#feats=list(set(feats))\n",
        "\n",
        "model=RandomForestRegressor(max_depth=5,n_estimators=100)\n",
        "results = run_model(feats, model)"
      ],
      "execution_count": 0,
      "outputs": []
    },
    {
      "cell_type": "code",
      "metadata": {
        "id": "ZmpZ_w8XNtps",
        "colab_type": "code",
        "colab": {
          "base_uri": "https://localhost:8080/",
          "height": 192
        },
        "outputId": "51ef8fe2-9d38-4d45-885f-d7d22c86365d"
      },
      "source": [
        "X=df[feats].values\n",
        "y=df['prices_amountmin'].values\n",
        "\n",
        "m=RandomForestRegressor(max_depth=5,n_estimators=100,random_state=0)\n",
        "m.fit(X,y)\n",
        "\n",
        "print(results)\n",
        "perm=PermutationImportance(m, random_state=1).fit(X,y)\n",
        "eli5.show_weights(perm, feature_names=feats)"
      ],
      "execution_count": 95,
      "outputs": [
        {
          "output_type": "stream",
          "text": [
            "(-57.249514139290525, 4.224693659269835)\n"
          ],
          "name": "stdout"
        },
        {
          "output_type": "execute_result",
          "data": {
            "text/html": [
              "\n",
              "    <style>\n",
              "    table.eli5-weights tr:hover {\n",
              "        filter: brightness(85%);\n",
              "    }\n",
              "</style>\n",
              "\n",
              "\n",
              "\n",
              "    \n",
              "\n",
              "    \n",
              "\n",
              "    \n",
              "\n",
              "    \n",
              "\n",
              "    \n",
              "\n",
              "    \n",
              "\n",
              "\n",
              "    \n",
              "\n",
              "    \n",
              "\n",
              "    \n",
              "\n",
              "    \n",
              "\n",
              "    \n",
              "\n",
              "    \n",
              "\n",
              "\n",
              "    \n",
              "\n",
              "    \n",
              "\n",
              "    \n",
              "\n",
              "    \n",
              "\n",
              "    \n",
              "        <table class=\"eli5-weights eli5-feature-importances\" style=\"border-collapse: collapse; border: none; margin-top: 0em; table-layout: auto;\">\n",
              "    <thead>\n",
              "    <tr style=\"border: none;\">\n",
              "        <th style=\"padding: 0 1em 0 0.5em; text-align: right; border: none;\">Weight</th>\n",
              "        <th style=\"padding: 0 0.5em 0 0.5em; text-align: left; border: none;\">Feature</th>\n",
              "    </tr>\n",
              "    </thead>\n",
              "    <tbody>\n",
              "    \n",
              "        <tr style=\"background-color: hsl(120, 100.00%, 80.00%); border: none;\">\n",
              "            <td style=\"padding: 0 1em 0 0.5em; text-align: right; border: none;\">\n",
              "                0.2553\n",
              "                \n",
              "                    &plusmn; 0.0080\n",
              "                \n",
              "            </td>\n",
              "            <td style=\"padding: 0 0.5em 0 0.5em; text-align: left; border: none;\">\n",
              "                brand_cat\n",
              "            </td>\n",
              "        </tr>\n",
              "    \n",
              "        <tr style=\"background-color: hsl(120, 100.00%, 89.42%); border: none;\">\n",
              "            <td style=\"padding: 0 1em 0 0.5em; text-align: right; border: none;\">\n",
              "                0.1029\n",
              "                \n",
              "                    &plusmn; 0.0014\n",
              "                \n",
              "            </td>\n",
              "            <td style=\"padding: 0 0.5em 0 0.5em; text-align: left; border: none;\">\n",
              "                feat_material_cat\n",
              "            </td>\n",
              "        </tr>\n",
              "    \n",
              "        <tr style=\"background-color: hsl(120, 100.00%, 96.07%); border: none;\">\n",
              "            <td style=\"padding: 0 1em 0 0.5em; text-align: right; border: none;\">\n",
              "                0.0250\n",
              "                \n",
              "                    &plusmn; 0.0022\n",
              "                \n",
              "            </td>\n",
              "            <td style=\"padding: 0 0.5em 0 0.5em; text-align: left; border: none;\">\n",
              "                feat_gender_cat\n",
              "            </td>\n",
              "        </tr>\n",
              "    \n",
              "        <tr style=\"background-color: hsl(120, 100.00%, 96.90%); border: none;\">\n",
              "            <td style=\"padding: 0 1em 0 0.5em; text-align: right; border: none;\">\n",
              "                0.0178\n",
              "                \n",
              "                    &plusmn; 0.0008\n",
              "                \n",
              "            </td>\n",
              "            <td style=\"padding: 0 0.5em 0 0.5em; text-align: left; border: none;\">\n",
              "                feat_brand_cat\n",
              "            </td>\n",
              "        </tr>\n",
              "    \n",
              "        <tr style=\"background-color: hsl(120, 100.00%, 97.57%); border: none;\">\n",
              "            <td style=\"padding: 0 1em 0 0.5em; text-align: right; border: none;\">\n",
              "                0.0125\n",
              "                \n",
              "                    &plusmn; 0.0011\n",
              "                \n",
              "            </td>\n",
              "            <td style=\"padding: 0 0.5em 0 0.5em; text-align: left; border: none;\">\n",
              "                feat_shape_cat\n",
              "            </td>\n",
              "        </tr>\n",
              "    \n",
              "        <tr style=\"background-color: hsl(120, 100.00%, 98.04%); border: none;\">\n",
              "            <td style=\"padding: 0 1em 0 0.5em; text-align: right; border: none;\">\n",
              "                0.0092\n",
              "                \n",
              "                    &plusmn; 0.0015\n",
              "                \n",
              "            </td>\n",
              "            <td style=\"padding: 0 0.5em 0 0.5em; text-align: left; border: none;\">\n",
              "                feat_metal type_cat\n",
              "            </td>\n",
              "        </tr>\n",
              "    \n",
              "        <tr style=\"background-color: hsl(120, 100.00%, 99.10%); border: none;\">\n",
              "            <td style=\"padding: 0 1em 0 0.5em; text-align: right; border: none;\">\n",
              "                0.0030\n",
              "                \n",
              "                    &plusmn; 0.0012\n",
              "                \n",
              "            </td>\n",
              "            <td style=\"padding: 0 0.5em 0 0.5em; text-align: left; border: none;\">\n",
              "                feat_style_cat\n",
              "            </td>\n",
              "        </tr>\n",
              "    \n",
              "        <tr style=\"background-color: hsl(120, 100.00%, 99.89%); border: none;\">\n",
              "            <td style=\"padding: 0 1em 0 0.5em; text-align: right; border: none;\">\n",
              "                0.0002\n",
              "                \n",
              "                    &plusmn; 0.0000\n",
              "                \n",
              "            </td>\n",
              "            <td style=\"padding: 0 0.5em 0 0.5em; text-align: left; border: none;\">\n",
              "                feat_sport_cat\n",
              "            </td>\n",
              "        </tr>\n",
              "    \n",
              "    \n",
              "    </tbody>\n",
              "</table>\n",
              "    \n",
              "\n",
              "    \n",
              "\n",
              "\n",
              "    \n",
              "\n",
              "    \n",
              "\n",
              "    \n",
              "\n",
              "    \n",
              "\n",
              "    \n",
              "\n",
              "    \n",
              "\n",
              "\n",
              "\n"
            ],
            "text/plain": [
              "<IPython.core.display.HTML object>"
            ]
          },
          "metadata": {
            "tags": []
          },
          "execution_count": 95
        }
      ]
    },
    {
      "cell_type": "code",
      "metadata": {
        "id": "JY7lGYLEPALy",
        "colab_type": "code",
        "colab": {
          "base_uri": "https://localhost:8080/",
          "height": 237
        },
        "outputId": "41086bed-925d-414c-d5be-eb9afe3f476d"
      },
      "source": [
        "df['brand'].value_counts(normalize=True)"
      ],
      "execution_count": 96,
      "outputs": [
        {
          "output_type": "execute_result",
          "data": {
            "text/plain": [
              "nike                     0.097210\n",
              "puma                     0.033315\n",
              "ralph lauren             0.028775\n",
              "vans                     0.021116\n",
              "new balance              0.020295\n",
              "                           ...   \n",
              "reef footwear            0.000055\n",
              "firefly                  0.000055\n",
              "u.s. polo association    0.000055\n",
              "hue                      0.000055\n",
              "snugpak                  0.000055\n",
              "Name: brand, Length: 1732, dtype: float64"
            ]
          },
          "metadata": {
            "tags": []
          },
          "execution_count": 96
        }
      ]
    },
    {
      "cell_type": "code",
      "metadata": {
        "id": "iKGVb6L_PeuS",
        "colab_type": "code",
        "colab": {
          "base_uri": "https://localhost:8080/",
          "height": 129
        },
        "outputId": "989a0ae9-40e2-4dbc-f409-29ccf1ee61bd"
      },
      "source": [
        "df[df['brand']=='nike'].features_parsed.sample(5).values"
      ],
      "execution_count": 97,
      "outputs": [
        {
          "output_type": "execute_result",
          "data": {
            "text/plain": [
              "array([{}, {'style': 'university red/black/white/metallic silver'},\n",
              "       {'style': 'track & sweat pants', 'pattern': 'solid', 'material': 'cotton blend', 'sleeve length': 'long sleeve', 'condition': 'new with tags'},\n",
              "       {'sport': 'running shoes', 'occasion': 'running shoes', 'material': 'mesh', 'gender': 'men', 'shoe size': '11 us men', 'shoe category': \"men's shoes\", 'assembled product dimensions (l x w x h)': '12.00 x 8.00 x 6.00 inches', 'fabric content': 'mesh', 'color': 'black', 'model': '719933 008', 'shoe closure': 'lace-up', 'casual & dress shoe style': 'running shoes', 'manufacturer part number': '719933 008', 'brand': 'nike', 'shoe width': 'd(m)'},\n",
              "       {'gender': 'men', 'brand': 'nike', 'color': 'black/challenge red/metallic silver/black'}],\n",
              "      dtype=object)"
            ]
          },
          "metadata": {
            "tags": []
          },
          "execution_count": 97
        }
      ]
    },
    {
      "cell_type": "code",
      "metadata": {
        "id": "zYDunEt8QwAh",
        "colab_type": "code",
        "colab": {
          "base_uri": "https://localhost:8080/",
          "height": 35
        },
        "outputId": "f6fa1384-7a48-430e-dc36-38d17e4f9718"
      },
      "source": [
        "!git add 'day5.ipynb'"
      ],
      "execution_count": 99,
      "outputs": [
        {
          "output_type": "stream",
          "text": [
            "fatal: pathspec 'day5.ipynb' did not match any files\n"
          ],
          "name": "stdout"
        }
      ]
    },
    {
      "cell_type": "code",
      "metadata": {
        "id": "0XwD9XdCejCY",
        "colab_type": "code",
        "colab": {
          "base_uri": "https://localhost:8080/",
          "height": 35
        },
        "outputId": "50e1a588-9992-481d-fca2-52e9a6940af0"
      },
      "source": [
        "ls"
      ],
      "execution_count": 100,
      "outputs": [
        {
          "output_type": "stream",
          "text": [
            "\u001b[0m\u001b[01;34mdata\u001b[0m/  day4.ipynb  HelloGithub.ipynb  LICENSE  \u001b[01;34mmatrix_one\u001b[0m/  README.md\n"
          ],
          "name": "stdout"
        }
      ]
    },
    {
      "cell_type": "code",
      "metadata": {
        "id": "ygzabkGIet35",
        "colab_type": "code",
        "colab": {
          "base_uri": "https://localhost:8080/",
          "height": 54
        },
        "outputId": "b21a9536-7c2e-47ed-901d-5225c7f10567"
      },
      "source": [
        "ls"
      ],
      "execution_count": 101,
      "outputs": [
        {
          "output_type": "stream",
          "text": [
            "\u001b[0m\u001b[01;34mdata\u001b[0m/       day5.ipynb         LICENSE      README.md\n",
            "day4.ipynb  HelloGithub.ipynb  \u001b[01;34mmatrix_one\u001b[0m/\n"
          ],
          "name": "stdout"
        }
      ]
    },
    {
      "cell_type": "code",
      "metadata": {
        "id": "dnPYqFcYe8g3",
        "colab_type": "code",
        "colab": {}
      },
      "source": [
        "!git add 'day5.ipynb'"
      ],
      "execution_count": 0,
      "outputs": []
    },
    {
      "cell_type": "code",
      "metadata": {
        "id": "_sLPbzMee_f2",
        "colab_type": "code",
        "colab": {
          "base_uri": "https://localhost:8080/",
          "height": 72
        },
        "outputId": "8ffeee96-cfd6-4fe2-83ec-559b53079646"
      },
      "source": [
        "!git commit -m \"Shoes ML\""
      ],
      "execution_count": 105,
      "outputs": [
        {
          "output_type": "stream",
          "text": [
            "[master 8cb63f3] Shoes ML\n",
            " 1 file changed, 1 insertion(+)\n",
            " create mode 100644 day5.ipynb\n"
          ],
          "name": "stdout"
        }
      ]
    },
    {
      "cell_type": "code",
      "metadata": {
        "id": "b3HmcLwsfDdt",
        "colab_type": "code",
        "colab": {}
      },
      "source": [
        "!git config --global user.email \"thorineoc@gmail.com\"\n",
        "!git config --global user.name \"Angelika\""
      ],
      "execution_count": 0,
      "outputs": []
    },
    {
      "cell_type": "code",
      "metadata": {
        "id": "zopWTcmyfGSZ",
        "colab_type": "code",
        "colab": {
          "base_uri": "https://localhost:8080/",
          "height": 35
        },
        "outputId": "fb8bf7b7-cdc6-4d8a-fb78-a4d2da6f0341"
      },
      "source": [
        "!git push -u origin master"
      ],
      "execution_count": 106,
      "outputs": [
        {
          "output_type": "stream",
          "text": [
            "fatal: could not read Password for 'https://819b77c0ea8bfa2b1726eefe52b75ec3cf4efdff@github.com': No such device or address\n"
          ],
          "name": "stdout"
        }
      ]
    },
    {
      "cell_type": "code",
      "metadata": {
        "id": "PreExesgfJw0",
        "colab_type": "code",
        "colab": {}
      },
      "source": [
        ""
      ],
      "execution_count": 0,
      "outputs": []
    }
  ]
}